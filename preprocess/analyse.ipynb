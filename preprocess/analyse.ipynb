{
 "cells": [
  {
   "cell_type": "code",
   "execution_count": 1,
   "id": "c96d70cb",
   "metadata": {},
   "outputs": [],
   "source": [
    "import sweetviz as sv\n",
    "import pandas as pd\n",
    "import numpy as np"
   ]
  },
  {
   "cell_type": "code",
   "execution_count": 2,
   "id": "bcd981d5",
   "metadata": {},
   "outputs": [],
   "source": [
    "label = np.hstack((np.zeros(1440), pd.read_csv('../dataset/processed/test/label.csv')['label'].values))"
   ]
  },
  {
   "cell_type": "code",
   "execution_count": 3,
   "id": "db5f0f18",
   "metadata": {},
   "outputs": [
    {
     "data": {
      "application/vnd.jupyter.widget-view+json": {
       "model_id": "98104cd6a8ed4d53abc55909afc3f78d",
       "version_major": 2,
       "version_minor": 0
      },
      "text/plain": [
       "                                             |      | [  0%]   00:00 -> (? left)"
      ]
     },
     "metadata": {},
     "output_type": "display_data"
    },
    {
     "name": "stdout",
     "output_type": "stream",
     "text": [
      "Report ../dataset/processed/metrics_analyes.html was generated! NOTEBOOK/COLAB USERS: the web browser MAY not pop up, regardless, the report IS saved in your notebook/colab files.\n"
     ]
    },
    {
     "name": "stderr",
     "output_type": "stream",
     "text": [
      "0:89: execution error: 找不到文件“某个对象”。 (-43)\n"
     ]
    }
   ],
   "source": [
    "metric = pd.concat([pd.read_csv('../dataset/processed/train/metrics/metrics.csv'),\n",
    "                    pd.read_csv('../dataset/processed/test/metrics/metrics.csv')])\n",
    "metric['label'] = label\n",
    "report = sv.analyze(metric.iloc[:,1:])\n",
    "report.show_html('../dataset/processed/metrics_analyes.html')"
   ]
  },
  {
   "cell_type": "code",
   "execution_count": 4,
   "id": "86ad90a3",
   "metadata": {},
   "outputs": [
    {
     "data": {
      "application/vnd.jupyter.widget-view+json": {
       "model_id": "e70a6bda62de4ab88a0b7951ccc7fa70",
       "version_major": 2,
       "version_minor": 0
      },
      "text/plain": [
       "                                             |      | [  0%]   00:00 -> (? left)"
      ]
     },
     "metadata": {},
     "output_type": "display_data"
    },
    {
     "name": "stdout",
     "output_type": "stream",
     "text": [
      "Report ../dataset/processed/traces_analyes.html was generated! NOTEBOOK/COLAB USERS: the web browser MAY not pop up, regardless, the report IS saved in your notebook/colab files.\n"
     ]
    },
    {
     "name": "stderr",
     "output_type": "stream",
     "text": [
      "0:88: execution error: 找不到文件“某个对象”。 (-43)\n"
     ]
    }
   ],
   "source": [
    "metric = pd.concat([pd.read_csv('../dataset/processed/train/traces/traces.csv'),\n",
    "                    pd.read_csv('../dataset/processed/test/traces/traces.csv')])\n",
    "metric['label'] = label\n",
    "report = sv.analyze(metric.iloc[:,1:])\n",
    "report.show_html('../dataset/processed/traces_analyes.html')"
   ]
  },
  {
   "cell_type": "code",
   "execution_count": null,
   "id": "b124fe64",
   "metadata": {},
   "outputs": [],
   "source": []
  }
 ],
 "metadata": {
  "kernelspec": {
   "display_name": "Python [conda env:py39]",
   "language": "python",
   "name": "py39"
  },
  "language_info": {
   "codemirror_mode": {
    "name": "ipython",
    "version": 3
   },
   "file_extension": ".py",
   "mimetype": "text/x-python",
   "name": "python",
   "nbconvert_exporter": "python",
   "pygments_lexer": "ipython3",
   "version": "3.9.6"
  }
 },
 "nbformat": 4,
 "nbformat_minor": 5
}
