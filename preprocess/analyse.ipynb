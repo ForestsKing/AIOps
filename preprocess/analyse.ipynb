{
 "cells": [
  {
   "cell_type": "code",
   "execution_count": 1,
   "id": "a3d43e6c",
   "metadata": {},
   "outputs": [],
   "source": [
    "import sweetviz as sv\n",
    "import pandas as pd\n",
    "import numpy as np"
   ]
  },
  {
   "cell_type": "code",
   "execution_count": 2,
   "id": "0b4a9216",
   "metadata": {},
   "outputs": [],
   "source": [
    "label = np.hstack((np.zeros(1440), pd.read_csv('../dataset/processed/test/label.csv')['label'].values))"
   ]
  },
  {
   "cell_type": "code",
   "execution_count": 3,
   "id": "70f56b9d",
   "metadata": {},
   "outputs": [
    {
     "data": {
      "application/vnd.jupyter.widget-view+json": {
       "model_id": "bc31455fa5704a27a492d7c26d17c7d8",
       "version_major": 2,
       "version_minor": 0
      },
      "text/plain": [
       "                                             |      | [  0%]   00:00 -> (? left)"
      ]
     },
     "metadata": {},
     "output_type": "display_data"
    },
    {
     "name": "stdout",
     "output_type": "stream",
     "text": [
      "Report ../dataset/processed/metrics_analyes.html was generated! NOTEBOOK/COLAB USERS: the web browser MAY not pop up, regardless, the report IS saved in your notebook/colab files.\n"
     ]
    },
    {
     "name": "stderr",
     "output_type": "stream",
     "text": [
      "0:89: execution error: 找不到文件“某个对象”。 (-43)\n"
     ]
    }
   ],
   "source": [
    "metric = pd.concat([pd.read_csv('../dataset/processed/train/metrics/metrics_clean.csv'),\n",
    "                    pd.read_csv('../dataset/processed/test/metrics/metrics_clean.csv')])\n",
    "metric['label'] = label\n",
    "report = sv.analyze(metric.iloc[:,1:])\n",
    "report.show_html('../dataset/processed/metrics_analyes.html')"
   ]
  },
  {
   "cell_type": "code",
   "execution_count": 4,
   "id": "7668d04f",
   "metadata": {},
   "outputs": [
    {
     "data": {
      "application/vnd.jupyter.widget-view+json": {
       "model_id": "3ff03c5077594e9986ef0f5cb4b2925c",
       "version_major": 2,
       "version_minor": 0
      },
      "text/plain": [
       "                                             |      | [  0%]   00:00 -> (? left)"
      ]
     },
     "metadata": {},
     "output_type": "display_data"
    },
    {
     "name": "stdout",
     "output_type": "stream",
     "text": [
      "Report ../dataset/processed/traces_analyes.html was generated! NOTEBOOK/COLAB USERS: the web browser MAY not pop up, regardless, the report IS saved in your notebook/colab files.\n"
     ]
    },
    {
     "name": "stderr",
     "output_type": "stream",
     "text": [
      "0:88: execution error: 找不到文件“某个对象”。 (-43)\n"
     ]
    }
   ],
   "source": [
    "metric = pd.concat([pd.read_csv('../dataset/processed/train/traces/traces_clean.csv'),\n",
    "                    pd.read_csv('../dataset/processed/test/traces/traces_clean.csv')])\n",
    "metric['label'] = label\n",
    "report = sv.analyze(metric.iloc[:,1:])\n",
    "report.show_html('../dataset/processed/traces_analyes.html')"
   ]
  },
  {
   "cell_type": "code",
   "execution_count": null,
   "id": "9faab3d4",
   "metadata": {},
   "outputs": [],
   "source": []
  }
 ],
 "metadata": {
  "kernelspec": {
   "display_name": "Python [conda env:py39]",
   "language": "python",
   "name": "py39"
  },
  "language_info": {
   "codemirror_mode": {
    "name": "ipython",
    "version": 3
   },
   "file_extension": ".py",
   "mimetype": "text/x-python",
   "name": "python",
   "nbconvert_exporter": "python",
   "pygments_lexer": "ipython3",
   "version": "3.9.6"
  }
 },
 "nbformat": 4,
 "nbformat_minor": 5
}
