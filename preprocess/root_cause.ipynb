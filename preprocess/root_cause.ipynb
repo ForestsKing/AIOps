{
 "cells": [
  {
   "cell_type": "code",
   "execution_count": 1,
   "id": "4b2a58a3",
   "metadata": {},
   "outputs": [],
   "source": [
    "import pandas as pd\n",
    "import numpy as np\n",
    "from sklearn.preprocessing import MinMaxScaler, StandardScaler, Normalizer"
   ]
  },
  {
   "cell_type": "code",
   "execution_count": 2,
   "id": "a76b584f",
   "metadata": {},
   "outputs": [],
   "source": [
    "df_train = pd.read_csv('../dataset/processed/train/metrics/metrics.csv')\n",
    "df_test = pd.read_csv('../dataset/processed/test/metrics/metrics.csv')\n",
    "df_test_label = pd.read_csv('../dataset/processed/test/label.csv')\n",
    "df_test_label = df_test_label[df_test_label['label']==1]\n",
    "root_cause_label = pd.read_csv('../dataset/processed/test/label.csv')"
   ]
  },
  {
   "cell_type": "code",
   "execution_count": 3,
   "id": "1148919a",
   "metadata": {},
   "outputs": [],
   "source": [
    "scaler = MinMaxScaler()\n",
    "df_train.iloc[:, 1:] = scaler.fit_transform(df_train.iloc[:, 1:].values)\n",
    "df_test.iloc[:, 1:] = scaler.transform(df_test.iloc[:, 1:].values)"
   ]
  },
  {
   "cell_type": "code",
   "execution_count": 4,
   "id": "a11d4c77",
   "metadata": {},
   "outputs": [],
   "source": [
    "device = ['cpu', 'mem']\n",
    "node = ['carts', 'carts_db', 'catalogue', 'catalogue_db', 'front_end', \n",
    "        'ip5', 'ip6', 'ip7', 'orders', 'orders_db', \n",
    "        'payment', 'queue_master', 'rabbitmq', 'session_db', 'shipping', \n",
    "        'user', 'user_db']"
   ]
  },
  {
   "cell_type": "code",
   "execution_count": 5,
   "id": "2c9ce0ca",
   "metadata": {},
   "outputs": [
    {
     "data": {
      "text/html": [
       "<div>\n",
       "<style scoped>\n",
       "    .dataframe tbody tr th:only-of-type {\n",
       "        vertical-align: middle;\n",
       "    }\n",
       "\n",
       "    .dataframe tbody tr th {\n",
       "        vertical-align: top;\n",
       "    }\n",
       "\n",
       "    .dataframe thead th {\n",
       "        text-align: right;\n",
       "    }\n",
       "</style>\n",
       "<table border=\"1\" class=\"dataframe\">\n",
       "  <thead>\n",
       "    <tr style=\"text-align: right;\">\n",
       "      <th></th>\n",
       "      <th>timestamp</th>\n",
       "      <th>label</th>\n",
       "      <th>root_cause</th>\n",
       "    </tr>\n",
       "  </thead>\n",
       "  <tbody>\n",
       "    <tr>\n",
       "      <th>105</th>\n",
       "      <td>2022-03-26 10:15:00</td>\n",
       "      <td>1</td>\n",
       "      <td>cpu_usage_carts</td>\n",
       "    </tr>\n",
       "    <tr>\n",
       "      <th>106</th>\n",
       "      <td>2022-03-26 10:16:00</td>\n",
       "      <td>1</td>\n",
       "      <td>cpu_usage_carts</td>\n",
       "    </tr>\n",
       "    <tr>\n",
       "      <th>107</th>\n",
       "      <td>2022-03-26 10:17:00</td>\n",
       "      <td>1</td>\n",
       "      <td>cpu_usage_carts</td>\n",
       "    </tr>\n",
       "    <tr>\n",
       "      <th>108</th>\n",
       "      <td>2022-03-26 10:18:00</td>\n",
       "      <td>1</td>\n",
       "      <td>cpu_usage_carts</td>\n",
       "    </tr>\n",
       "    <tr>\n",
       "      <th>109</th>\n",
       "      <td>2022-03-26 10:19:00</td>\n",
       "      <td>1</td>\n",
       "      <td>cpu_usage_carts</td>\n",
       "    </tr>\n",
       "  </tbody>\n",
       "</table>\n",
       "</div>"
      ],
      "text/plain": [
       "               timestamp  label       root_cause\n",
       "105  2022-03-26 10:15:00      1  cpu_usage_carts\n",
       "106  2022-03-26 10:16:00      1  cpu_usage_carts\n",
       "107  2022-03-26 10:17:00      1  cpu_usage_carts\n",
       "108  2022-03-26 10:18:00      1  cpu_usage_carts\n",
       "109  2022-03-26 10:19:00      1  cpu_usage_carts"
      ]
     },
     "execution_count": 5,
     "metadata": {},
     "output_type": "execute_result"
    }
   ],
   "source": [
    "df_test_label = df_test_label[df_test_label['label']==1]\n",
    "df_test_label[['timestamp', 'root_cause']].to_csv('../dataset/processed/root_cause/injection_info.csv')\n",
    "df_test_label.head()"
   ]
  },
  {
   "cell_type": "code",
   "execution_count": 6,
   "id": "3e69728f",
   "metadata": {},
   "outputs": [],
   "source": [
    "for i in range(len(df_test_label)):\n",
    "    timestamp = df_test_label['timestamp'].values[i]\n",
    "    root_cause = df_test_label['root_cause'].values[i]\n",
    "    \n",
    "    info = pd.DataFrame(columns=['device', 'node', 'predict', 'real'])\n",
    "    for d in device:\n",
    "        for n in node:\n",
    "            predict = df_train[d+'_usage_'+n].mean()\n",
    "            real = df_test[df_test['timestamp']==timestamp][d+'_usage_'+n].values[0]\n",
    "            info.loc[len(info)] = [d, n, predict, real]\n",
    "    info.to_csv('../dataset/processed/root_cause/'+timestamp+'.csv', index=False)"
   ]
  },
  {
   "cell_type": "code",
   "execution_count": null,
   "id": "f451c145",
   "metadata": {},
   "outputs": [],
   "source": []
  }
 ],
 "metadata": {
  "kernelspec": {
   "display_name": "py39",
   "language": "python",
   "name": "py39"
  },
  "language_info": {
   "codemirror_mode": {
    "name": "ipython",
    "version": 3
   },
   "file_extension": ".py",
   "mimetype": "text/x-python",
   "name": "python",
   "nbconvert_exporter": "python",
   "pygments_lexer": "ipython3",
   "version": "3.9.7"
  }
 },
 "nbformat": 4,
 "nbformat_minor": 5
}
