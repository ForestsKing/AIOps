{
 "cells": [
  {
   "cell_type": "code",
   "execution_count": 1,
   "id": "71c691a0",
   "metadata": {},
   "outputs": [],
   "source": [
    "import numpy as np\n",
    "import pandas as pd"
   ]
  },
  {
   "cell_type": "code",
   "execution_count": 2,
   "id": "59b1e48c",
   "metadata": {},
   "outputs": [],
   "source": [
    "df = pd.DataFrame(pd.date_range(start='2022-03-26 08:30', end='2022-03-26 20:29', freq='T', name='timestamp'))\n",
    "df['label'] = 0\n",
    "df['root_cause'] = None"
   ]
  },
  {
   "cell_type": "code",
   "execution_count": 3,
   "id": "3e68e99d",
   "metadata": {},
   "outputs": [
    {
     "data": {
      "text/html": [
       "<div>\n",
       "<style scoped>\n",
       "    .dataframe tbody tr th:only-of-type {\n",
       "        vertical-align: middle;\n",
       "    }\n",
       "\n",
       "    .dataframe tbody tr th {\n",
       "        vertical-align: top;\n",
       "    }\n",
       "\n",
       "    .dataframe thead th {\n",
       "        text-align: right;\n",
       "    }\n",
       "</style>\n",
       "<table border=\"1\" class=\"dataframe\">\n",
       "  <thead>\n",
       "    <tr style=\"text-align: right;\">\n",
       "      <th></th>\n",
       "      <th>时间段</th>\n",
       "      <th>注入目标</th>\n",
       "      <th>对应指标</th>\n",
       "      <th>异常说明</th>\n",
       "      <th>start_time</th>\n",
       "      <th>end_time</th>\n",
       "    </tr>\n",
       "  </thead>\n",
       "  <tbody>\n",
       "    <tr>\n",
       "      <th>0</th>\n",
       "      <td>2:15~2:20</td>\n",
       "      <td>Pod_cart</td>\n",
       "      <td>cpu_usage_carts</td>\n",
       "      <td>CPU双线程各自施加40负载</td>\n",
       "      <td>2022-03-26 10:15:00</td>\n",
       "      <td>2022-03-26 10:20:00</td>\n",
       "    </tr>\n",
       "    <tr>\n",
       "      <th>1</th>\n",
       "      <td>2:45~2:52</td>\n",
       "      <td>Pod_cart</td>\n",
       "      <td>mem_usage_carts</td>\n",
       "      <td>MEM共提高512MB内存使用量</td>\n",
       "      <td>2022-03-26 10:45:00</td>\n",
       "      <td>2022-03-26 10:52:00</td>\n",
       "    </tr>\n",
       "    <tr>\n",
       "      <th>2</th>\n",
       "      <td>3:20~3:25</td>\n",
       "      <td>Pod_catalogue</td>\n",
       "      <td>cpu_usage_catalogue</td>\n",
       "      <td>CPU双线程各自施加60负载</td>\n",
       "      <td>2022-03-26 11:20:00</td>\n",
       "      <td>2022-03-26 11:25:00</td>\n",
       "    </tr>\n",
       "    <tr>\n",
       "      <th>3</th>\n",
       "      <td>3:50~4:02</td>\n",
       "      <td>Pod_catalogue</td>\n",
       "      <td>mem_usage_catalogue</td>\n",
       "      <td>MEM共提高512MB内存使用量</td>\n",
       "      <td>2022-03-26 11:50:00</td>\n",
       "      <td>2022-03-26 12:02:00</td>\n",
       "    </tr>\n",
       "    <tr>\n",
       "      <th>4</th>\n",
       "      <td>4:20~4:30</td>\n",
       "      <td>Pod_front-end</td>\n",
       "      <td>cpu_usage_front_end</td>\n",
       "      <td>CPU双线程各自施加45负载</td>\n",
       "      <td>2022-03-26 12:20:00</td>\n",
       "      <td>2022-03-26 12:30:00</td>\n",
       "    </tr>\n",
       "  </tbody>\n",
       "</table>\n",
       "</div>"
      ],
      "text/plain": [
       "         时间段           注入目标                 对应指标              异常说明  \\\n",
       "0  2:15~2:20       Pod_cart      cpu_usage_carts    CPU双线程各自施加40负载   \n",
       "1  2:45~2:52       Pod_cart      mem_usage_carts  MEM共提高512MB内存使用量   \n",
       "2  3:20~3:25  Pod_catalogue  cpu_usage_catalogue    CPU双线程各自施加60负载   \n",
       "3  3:50~4:02  Pod_catalogue  mem_usage_catalogue  MEM共提高512MB内存使用量   \n",
       "4  4:20~4:30  Pod_front-end  cpu_usage_front_end    CPU双线程各自施加45负载   \n",
       "\n",
       "           start_time            end_time  \n",
       "0 2022-03-26 10:15:00 2022-03-26 10:20:00  \n",
       "1 2022-03-26 10:45:00 2022-03-26 10:52:00  \n",
       "2 2022-03-26 11:20:00 2022-03-26 11:25:00  \n",
       "3 2022-03-26 11:50:00 2022-03-26 12:02:00  \n",
       "4 2022-03-26 12:20:00 2022-03-26 12:30:00  "
      ]
     },
     "execution_count": 3,
     "metadata": {},
     "output_type": "execute_result"
    }
   ],
   "source": [
    "label = pd.read_excel('../dataset/processed/tmp/label.xlsx')\n",
    "label['start_time'] = label['时间段'].apply(lambda x: pd.to_datetime('2022-03-26 '+x.split('~')[0])+pd.to_timedelta('8h'))\n",
    "label['end_time'] = label['时间段'].apply(lambda x: pd.to_datetime('2022-03-26 '+x.split('~')[1])+pd.to_timedelta('8h'))\n",
    "\n",
    "start_time = label['start_time'].values\n",
    "end_time = label['end_time'].values\n",
    "root_cause = label['对应指标'].values\n",
    "label.head()"
   ]
  },
  {
   "cell_type": "code",
   "execution_count": 4,
   "id": "7c460045",
   "metadata": {},
   "outputs": [
    {
     "data": {
      "text/html": [
       "<div>\n",
       "<style scoped>\n",
       "    .dataframe tbody tr th:only-of-type {\n",
       "        vertical-align: middle;\n",
       "    }\n",
       "\n",
       "    .dataframe tbody tr th {\n",
       "        vertical-align: top;\n",
       "    }\n",
       "\n",
       "    .dataframe thead th {\n",
       "        text-align: right;\n",
       "    }\n",
       "</style>\n",
       "<table border=\"1\" class=\"dataframe\">\n",
       "  <thead>\n",
       "    <tr style=\"text-align: right;\">\n",
       "      <th></th>\n",
       "      <th>timestamp</th>\n",
       "      <th>label</th>\n",
       "      <th>root_cause</th>\n",
       "    </tr>\n",
       "  </thead>\n",
       "  <tbody>\n",
       "    <tr>\n",
       "      <th>0</th>\n",
       "      <td>2022-03-26 08:30:00</td>\n",
       "      <td>0</td>\n",
       "      <td>None</td>\n",
       "    </tr>\n",
       "    <tr>\n",
       "      <th>1</th>\n",
       "      <td>2022-03-26 08:31:00</td>\n",
       "      <td>0</td>\n",
       "      <td>None</td>\n",
       "    </tr>\n",
       "    <tr>\n",
       "      <th>2</th>\n",
       "      <td>2022-03-26 08:32:00</td>\n",
       "      <td>0</td>\n",
       "      <td>None</td>\n",
       "    </tr>\n",
       "    <tr>\n",
       "      <th>3</th>\n",
       "      <td>2022-03-26 08:33:00</td>\n",
       "      <td>0</td>\n",
       "      <td>None</td>\n",
       "    </tr>\n",
       "    <tr>\n",
       "      <th>4</th>\n",
       "      <td>2022-03-26 08:34:00</td>\n",
       "      <td>0</td>\n",
       "      <td>None</td>\n",
       "    </tr>\n",
       "  </tbody>\n",
       "</table>\n",
       "</div>"
      ],
      "text/plain": [
       "            timestamp  label root_cause\n",
       "0 2022-03-26 08:30:00      0       None\n",
       "1 2022-03-26 08:31:00      0       None\n",
       "2 2022-03-26 08:32:00      0       None\n",
       "3 2022-03-26 08:33:00      0       None\n",
       "4 2022-03-26 08:34:00      0       None"
      ]
     },
     "execution_count": 4,
     "metadata": {},
     "output_type": "execute_result"
    }
   ],
   "source": [
    "for i in range(len(label)):\n",
    "    start_time = label.iloc[i,:]['start_time']\n",
    "    end_time = label.iloc[i,:]['end_time']\n",
    "    root_cause = label.iloc[i,:]['对应指标']\n",
    "    df.loc[(df['timestamp']>=start_time) & (df['timestamp']<=end_time), 'label']=1\n",
    "    df.loc[(df['timestamp']>=start_time) & (df['timestamp']<=end_time), 'root_cause']=root_cause\n",
    "df.head()"
   ]
  },
  {
   "cell_type": "code",
   "execution_count": 5,
   "id": "0cdf4c64",
   "metadata": {},
   "outputs": [],
   "source": [
    "df.to_csv('../dataset/processed/test/label.csv', index=False)"
   ]
  }
 ],
 "metadata": {
  "kernelspec": {
   "display_name": "Python [conda env:py39]",
   "language": "python",
   "name": "py39"
  },
  "language_info": {
   "codemirror_mode": {
    "name": "ipython",
    "version": 3
   },
   "file_extension": ".py",
   "mimetype": "text/x-python",
   "name": "python",
   "nbconvert_exporter": "python",
   "pygments_lexer": "ipython3",
   "version": "3.9.6"
  }
 },
 "nbformat": 4,
 "nbformat_minor": 5
}
