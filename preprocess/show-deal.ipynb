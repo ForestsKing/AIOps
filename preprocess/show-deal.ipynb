{
 "cells": [
  {
   "cell_type": "code",
   "execution_count": 1,
   "id": "3090272b",
   "metadata": {},
   "outputs": [],
   "source": [
    "import pandas as pd\n",
    "import numpy as np\n",
    "import plotly.graph_objects as go\n",
    "import plotly.offline as of\n",
    "\n",
    "from sklearn.preprocessing import StandardScaler, MinMaxScaler"
   ]
  },
  {
   "cell_type": "code",
   "execution_count": 2,
   "id": "3c9fd515",
   "metadata": {},
   "outputs": [],
   "source": [
    "def AnomalyDetection(data):\n",
    "    mean = pd.Series(data[60:]).mean()\n",
    "    std = pd.Series(data[60:]).std()\n",
    "    data = pd.Series(data).fillna(mean).values\n",
    "    data[np.where(np.abs(data-mean) > 2*std)] = mean\n",
    "    return data, mean, std"
   ]
  },
  {
   "cell_type": "code",
   "execution_count": 3,
   "id": "4edd5c08",
   "metadata": {},
   "outputs": [],
   "source": [
    "def clean(df_train, df_test, label):\n",
    "    df_train_clean, df_test_clean = pd.DataFrame(), pd.DataFrame()\n",
    "    df_train_clean['timestamp'] = df_train['timestamp'].values\n",
    "    df_test_clean['timestamp'] = df_test['timestamp'].values\n",
    "    \n",
    "    cols = df_train.columns.values.tolist()\n",
    "    cols.remove('timestamp')\n",
    "\n",
    "    for col in cols:\n",
    "        data_train = df_train[col].values\n",
    "        data_train, mean_train, std_train = AnomalyDetection(data_train)\n",
    "        \n",
    "        mean_test = df_test[label['label']==0][col].mean()\n",
    "        std_test = df_test[label['label']==0][col].std()\n",
    "        data_test = df_test[col].fillna(mean_test).values\n",
    "        data_test = (data_test - mean_test) / std_test * std_train + mean_train\n",
    "        \n",
    "        scaler = StandardScaler()\n",
    "#         scaler.fit(np.vstack((data_train.reshape(-1, 1), data_test.reshape(-1, 1))))\n",
    "        data_train = scaler.fit_transform(data_train.reshape(-1, 1))\n",
    "        data_test = scaler.transform(data_test.reshape(-1, 1))\n",
    "        \n",
    "        df_train_clean[col] = data_train\n",
    "        df_test_clean[col] = data_test\n",
    "        \n",
    "    return df_train_clean, df_test_clean"
   ]
  },
  {
   "cell_type": "code",
   "execution_count": 4,
   "id": "891bfb78",
   "metadata": {},
   "outputs": [],
   "source": [
    "label = pd.read_csv('../dataset/processed/test/label.csv')\n",
    "label['label'] = label['label'].replace(0, np.NaN)\n",
    "label['label'] = label['label'].fillna('ffill', limit=5).fillna('bfill', limit=5).fillna(0)"
   ]
  },
  {
   "cell_type": "code",
   "execution_count": 5,
   "id": "cf511671",
   "metadata": {},
   "outputs": [],
   "source": [
    "df_train = pd.read_csv('../dataset/processed/train/metrics/metrics.csv')\n",
    "df_test = pd.read_csv('../dataset/processed/test/metrics/metrics.csv')\n",
    "\n",
    "df_train, df_test = clean(df_train, df_test, label)\n",
    "df_train.to_csv('../dataset/processed/train/metrics/metrics_clean.csv', index=False)\n",
    "df_test.to_csv('../dataset/processed/test/metrics/metrics_clean.csv', index=False)"
   ]
  },
  {
   "cell_type": "code",
   "execution_count": 6,
   "id": "c4eec99d",
   "metadata": {},
   "outputs": [
    {
     "data": {
      "text/plain": [
       "'../dataset/processed/test/metrics/metrics_clean.html'"
      ]
     },
     "execution_count": 6,
     "metadata": {},
     "output_type": "execute_result"
    }
   ],
   "source": [
    "lines = []\n",
    "layout = go.Layout(title='Metrics_train')\n",
    "for col in df_train.columns.values[1:]:\n",
    "    line = go.Scatter(x=df_train['timestamp'].values, y=df_train[col].values, mode='lines', name=col)\n",
    "    lines.append(line)\n",
    "fig = go.Figure(lines, layout=layout)\n",
    "of.plot(fig, filename='../dataset/processed/train/metrics/metrics_clean.html', auto_play=False, auto_open=False)\n",
    "\n",
    "lines = []\n",
    "layout = go.Layout(title='Metrics_test')\n",
    "for col in df_test.columns.values[1:]:\n",
    "    line = go.Scatter(x=df_test['timestamp'].values, y=df_test[col].values, mode='lines', name=col)\n",
    "    lines.append(line)\n",
    "fig = go.Figure(lines, layout=layout)\n",
    "of.plot(fig, filename='../dataset/processed/test/metrics/metrics_clean.html', auto_play=False, auto_open=False)"
   ]
  },
  {
   "cell_type": "code",
   "execution_count": 7,
   "id": "d4f28b9f",
   "metadata": {},
   "outputs": [],
   "source": [
    "df_train = pd.read_csv('../dataset/processed/train/traces/traces.csv')\n",
    "df_test = pd.read_csv('../dataset/processed/test/traces/traces.csv')\n",
    "\n",
    "df_train, df_test = clean(df_train, df_test, label)\n",
    "df_train.to_csv('../dataset/processed/train/traces/traces_clean.csv', index=False)\n",
    "df_test.to_csv('../dataset/processed/test/traces/traces_clean.csv', index=False)"
   ]
  },
  {
   "cell_type": "code",
   "execution_count": 8,
   "id": "c3d544cc",
   "metadata": {},
   "outputs": [
    {
     "data": {
      "text/plain": [
       "'../dataset/processed/test/traces/traces_clean.html'"
      ]
     },
     "execution_count": 8,
     "metadata": {},
     "output_type": "execute_result"
    }
   ],
   "source": [
    "lines = []\n",
    "layout = go.Layout(title='Traces_train')\n",
    "for col in df_train.columns.values[1:]:\n",
    "    line = go.Scatter(x=df_train['timestamp'].values, y=df_train[col].values, mode='lines', name=col)\n",
    "    lines.append(line)\n",
    "fig = go.Figure(lines, layout=layout)\n",
    "of.plot(fig, filename='../dataset/processed/train/traces/traces_clean.html', auto_play=False, auto_open=False)\n",
    "\n",
    "lines = []\n",
    "layout = go.Layout(title='Traces_test')\n",
    "for col in df_test.columns.values[1:]:\n",
    "    line = go.Scatter(x=df_test['timestamp'].values, y=df_test[col].values, mode='lines', name=col)\n",
    "    lines.append(line)\n",
    "fig = go.Figure(lines, layout=layout)\n",
    "of.plot(fig, filename='../dataset/processed/test/traces/traces_clean.html', auto_play=False, auto_open=False)"
   ]
  }
 ],
 "metadata": {
  "kernelspec": {
   "display_name": "Python [conda env:py39]",
   "language": "python",
   "name": "py39"
  },
  "language_info": {
   "codemirror_mode": {
    "name": "ipython",
    "version": 3
   },
   "file_extension": ".py",
   "mimetype": "text/x-python",
   "name": "python",
   "nbconvert_exporter": "python",
   "pygments_lexer": "ipython3",
   "version": "3.9.6"
  }
 },
 "nbformat": 4,
 "nbformat_minor": 5
}
