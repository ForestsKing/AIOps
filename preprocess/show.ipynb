{
 "cells": [
  {
   "cell_type": "code",
   "execution_count": 1,
   "id": "5891e2bb",
   "metadata": {},
   "outputs": [],
   "source": [
    "import pandas as pd\n",
    "import numpy as np\n",
    "import plotly.graph_objects as go\n",
    "import plotly.offline as of"
   ]
  },
  {
   "cell_type": "code",
   "execution_count": 2,
   "id": "39a60360",
   "metadata": {},
   "outputs": [
    {
     "data": {
      "text/plain": [
       "'../dataset/processed/train/metrics/metrics.html'"
      ]
     },
     "execution_count": 2,
     "metadata": {},
     "output_type": "execute_result"
    }
   ],
   "source": [
    "df = pd.read_csv('../dataset/processed/train/metrics/metrics.csv')\n",
    "lines = []\n",
    "layout = go.Layout(title='Metrics_train')\n",
    "for col in df.columns.values[1:]:\n",
    "    line = go.Scatter(x=df['timestamp'].values, y=df[col].values, mode='lines', name=col)\n",
    "    lines.append(line)\n",
    "fig = go.Figure(lines, layout=layout)\n",
    "of.plot(fig, filename='../dataset/processed/train/metrics/metrics.html', auto_play=False, auto_open=False)"
   ]
  },
  {
   "cell_type": "code",
   "execution_count": 3,
   "id": "0c5fb2e0",
   "metadata": {},
   "outputs": [
    {
     "data": {
      "text/plain": [
       "'../dataset/processed/test/metrics/metrics.html'"
      ]
     },
     "execution_count": 3,
     "metadata": {},
     "output_type": "execute_result"
    }
   ],
   "source": [
    "df = pd.read_csv('../dataset/processed/test/metrics/metrics.csv')\n",
    "lines = []\n",
    "layout = go.Layout(title='Metrics_test')\n",
    "for col in df.columns.values[1:]:\n",
    "    line = go.Scatter(x=df['timestamp'].values, y=df[col].values, mode='lines', name=col)\n",
    "    lines.append(line)\n",
    "fig = go.Figure(lines, layout=layout)\n",
    "of.plot(fig, filename='../dataset/processed/test/metrics/metrics.html', auto_play=False, auto_open=False)"
   ]
  },
  {
   "cell_type": "code",
   "execution_count": 4,
   "id": "ad540786",
   "metadata": {},
   "outputs": [
    {
     "data": {
      "text/plain": [
       "'../dataset/processed/train/traces/traces.html'"
      ]
     },
     "execution_count": 4,
     "metadata": {},
     "output_type": "execute_result"
    }
   ],
   "source": [
    "df = pd.read_csv('../dataset/processed/train/traces/traces.csv')\n",
    "lines = []\n",
    "layout = go.Layout(title='Traces_train')\n",
    "for col in df.columns.values[1:]:\n",
    "    line = go.Scatter(x=df['timestamp'].values, y=df[col].values, mode='lines', name=col)\n",
    "    lines.append(line)\n",
    "fig = go.Figure(lines, layout=layout)\n",
    "of.plot(fig, filename='../dataset/processed/train/traces/traces.html', auto_play=False, auto_open=False)"
   ]
  },
  {
   "cell_type": "code",
   "execution_count": 5,
   "id": "69b75bd5",
   "metadata": {},
   "outputs": [
    {
     "data": {
      "text/plain": [
       "'../dataset/processed/test/traces/traces.html'"
      ]
     },
     "execution_count": 5,
     "metadata": {},
     "output_type": "execute_result"
    }
   ],
   "source": [
    "df = pd.read_csv('../dataset/processed/test/traces/traces.csv')\n",
    "lines = []\n",
    "layout = go.Layout(title='Traces_test')\n",
    "for col in df.columns.values[1:]:\n",
    "    line = go.Scatter(x=df['timestamp'].values, y=df[col].values, mode='lines', name=col)\n",
    "    lines.append(line)\n",
    "fig = go.Figure(lines, layout=layout)\n",
    "of.plot(fig, filename='../dataset/processed/test/traces/traces.html', auto_play=False, auto_open=False)"
   ]
  },
  {
   "cell_type": "code",
   "execution_count": null,
   "id": "2bf295ee",
   "metadata": {},
   "outputs": [],
   "source": []
  }
 ],
 "metadata": {
  "kernelspec": {
   "display_name": "Python [conda env:py39]",
   "language": "python",
   "name": "py39"
  },
  "language_info": {
   "codemirror_mode": {
    "name": "ipython",
    "version": 3
   },
   "file_extension": ".py",
   "mimetype": "text/x-python",
   "name": "python",
   "nbconvert_exporter": "python",
   "pygments_lexer": "ipython3",
   "version": "3.9.6"
  }
 },
 "nbformat": 4,
 "nbformat_minor": 5
}
