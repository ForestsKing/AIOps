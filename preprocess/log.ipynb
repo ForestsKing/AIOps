{
 "cells": [
  {
   "cell_type": "code",
   "execution_count": 1,
   "id": "be1a6297",
   "metadata": {},
   "outputs": [],
   "source": [
    "import pandas as pd\n",
    "import os\n",
    "import re\n",
    "from tqdm import tqdm\n",
    "from logparser import LogParser\n",
    "import numpy as np"
   ]
  },
  {
   "cell_type": "code",
   "execution_count": 2,
   "id": "2afcb7c1",
   "metadata": {},
   "outputs": [],
   "source": [
    "def log2df(path):\n",
    "    with open(path, \"r\") as f:\n",
    "        data = f.readlines()\n",
    "        df = pd.DataFrame(data, columns=['log'])\n",
    "    return df"
   ]
  },
  {
   "cell_type": "code",
   "execution_count": 3,
   "id": "2ddafc3a",
   "metadata": {},
   "outputs": [],
   "source": [
    "def logclean(string):\n",
    "    string = str(string)\n",
    "    string = string.lower()\n",
    "    string = string.replace('\\n', '')\n",
    "    string = string.replace('\\tat', '')\n",
    "    string = re.sub(r'\\d{4}-\\d{2}-\\d{2} \\d{2}:\\d{2}:\\d{2}.\\d*',' ',string)\n",
    "    \n",
    "    string = re.sub(r' +',' ',string)\n",
    "    string = string.strip()\n",
    "    \n",
    "    string = string.split(' ')\n",
    "    \n",
    "    timestamp = string[0]\n",
    "    if len(string) == 1:\n",
    "        level = 'unknown'\n",
    "        msg = None\n",
    "    \n",
    "    elif string[1] == 'error' or string[1] == 'info':\n",
    "        level = string[1]\n",
    "        if len(string) > 2:\n",
    "            msg = ' '.join(string[2:])\n",
    "            msg = re.sub(r'[^a-z0-9]',' ',msg)\n",
    "            msg = re.sub(r'[0-9]\\S*\\b','',msg) # 屏蔽设备序号\n",
    "            msg = re.sub(r'\\b\\S*\\d\\S*\\b', '',msg) # 去除含数字的组合\n",
    "            msg = re.sub(r'\\b[a-z]\\b','',msg) # 过滤单独字母\n",
    "            msg = re.sub(r' +',' ',msg)\n",
    "        else:\n",
    "            msg = None\n",
    "    \n",
    "    else:\n",
    "        level = 'unknown'\n",
    "        msg = ' '.join(string[1:])\n",
    "        msg = re.sub(r'[^a-z0-9]',' ',msg)\n",
    "        msg = re.sub(r'[0-9]\\S*\\b','',msg) # 屏蔽设备序号\n",
    "        msg = re.sub(r'\\b\\S*\\d\\S*\\b', '',msg) # 去除含数字的组合\n",
    "        msg = re.sub(r'\\b[a-z]\\b','',msg) # 过滤单独字母\n",
    "        msg = re.sub(r' +',' ',msg)\n",
    "    \n",
    "    return [timestamp, level, msg]"
   ]
  },
  {
   "cell_type": "markdown",
   "id": "576445c9",
   "metadata": {},
   "source": [
    "# 制作语料库"
   ]
  },
  {
   "cell_type": "code",
   "execution_count": 4,
   "id": "9458ab96",
   "metadata": {},
   "outputs": [],
   "source": [
    "train = pd.concat([log2df('../dataset/sockshop/train/logs/carts-64f7c6d9d7-5mmd6.log'), \n",
    "                 log2df('../dataset/sockshop/train/logs/carts-db-844bf68bff-k7fvm.log'),\n",
    "                 log2df('../dataset/sockshop/train/logs/catalogue-6d5b4c4c4b-tpl5w.log'),\n",
    "                 log2df('../dataset/sockshop/train/logs/front-end-8648798447-tf4cj.log'),\n",
    "                 log2df('../dataset/sockshop/train/logs/orders-5ffb5f8596-d74jv.log'), \n",
    "                 log2df('../dataset/sockshop/train/logs/orders-db-9fd454cff-rrttb.log'),\n",
    "                 log2df('../dataset/sockshop/train/logs/payment-796848994-wwhv4.log'),\n",
    "                 log2df('../dataset/sockshop/train/logs/queue-master-6bf566994f-hvrpm.log'),\n",
    "                 log2df('../dataset/sockshop/train/logs/session-db-8f64655d5-qtnwh.log'), \n",
    "                 log2df('../dataset/sockshop/train/logs/shipping-899f9897f-96484.log'),\n",
    "                 log2df('../dataset/sockshop/train/logs/user-55b65b94bf-s98kg.log')\n",
    "                ])"
   ]
  },
  {
   "cell_type": "code",
   "execution_count": 5,
   "id": "dab2ebc3",
   "metadata": {},
   "outputs": [
    {
     "data": {
      "text/html": [
       "<div>\n",
       "<style scoped>\n",
       "    .dataframe tbody tr th:only-of-type {\n",
       "        vertical-align: middle;\n",
       "    }\n",
       "\n",
       "    .dataframe tbody tr th {\n",
       "        vertical-align: top;\n",
       "    }\n",
       "\n",
       "    .dataframe thead th {\n",
       "        text-align: right;\n",
       "    }\n",
       "</style>\n",
       "<table border=\"1\" class=\"dataframe\">\n",
       "  <thead>\n",
       "    <tr style=\"text-align: right;\">\n",
       "      <th></th>\n",
       "      <th>log</th>\n",
       "      <th>timestamp</th>\n",
       "      <th>level</th>\n",
       "      <th>msg</th>\n",
       "      <th>src</th>\n",
       "    </tr>\n",
       "  </thead>\n",
       "  <tbody>\n",
       "    <tr>\n",
       "      <th>0</th>\n",
       "      <td>[2022-03-24t07:32:38.494696400z, info,  carts ...</td>\n",
       "      <td>2022-03-24t07:32:38.494696400z</td>\n",
       "      <td>info</td>\n",
       "      <td>carts dbbdbc true nio exec org mongodb driver...</td>\n",
       "      <td>train</td>\n",
       "    </tr>\n",
       "    <tr>\n",
       "      <th>1</th>\n",
       "      <td>[2022-03-24t07:42:35.815209408z, error,  carts...</td>\n",
       "      <td>2022-03-24t07:42:35.815209408z</td>\n",
       "      <td>error</td>\n",
       "      <td>carts nio exec dispatcherservlet servlet serv...</td>\n",
       "      <td>train</td>\n",
       "    </tr>\n",
       "    <tr>\n",
       "      <th>3</th>\n",
       "      <td>[2022-03-24t07:42:35.815234953z, unknown, java...</td>\n",
       "      <td>2022-03-24t07:42:35.815234953z</td>\n",
       "      <td>unknown</td>\n",
       "      <td>java lang illegalargumentexception cannot find...</td>\n",
       "      <td>train</td>\n",
       "    </tr>\n",
       "    <tr>\n",
       "      <th>4</th>\n",
       "      <td>[2022-03-24t07:42:35.815236753z, unknown, work...</td>\n",
       "      <td>2022-03-24t07:42:35.815236753z</td>\n",
       "      <td>unknown</td>\n",
       "      <td>works weave socks cart item founditem lambda g...</td>\n",
       "      <td>train</td>\n",
       "    </tr>\n",
       "    <tr>\n",
       "      <th>5</th>\n",
       "      <td>[2022-03-24t07:42:35.815238631z, unknown, java...</td>\n",
       "      <td>2022-03-24t07:42:35.815238631z</td>\n",
       "      <td>unknown</td>\n",
       "      <td>java util optional orelsethrow optional java n...</td>\n",
       "      <td>train</td>\n",
       "    </tr>\n",
       "  </tbody>\n",
       "</table>\n",
       "</div>"
      ],
      "text/plain": [
       "                                                 log  \\\n",
       "0  [2022-03-24t07:32:38.494696400z, info,  carts ...   \n",
       "1  [2022-03-24t07:42:35.815209408z, error,  carts...   \n",
       "3  [2022-03-24t07:42:35.815234953z, unknown, java...   \n",
       "4  [2022-03-24t07:42:35.815236753z, unknown, work...   \n",
       "5  [2022-03-24t07:42:35.815238631z, unknown, java...   \n",
       "\n",
       "                        timestamp    level  \\\n",
       "0  2022-03-24t07:32:38.494696400z     info   \n",
       "1  2022-03-24t07:42:35.815209408z    error   \n",
       "3  2022-03-24t07:42:35.815234953z  unknown   \n",
       "4  2022-03-24t07:42:35.815236753z  unknown   \n",
       "5  2022-03-24t07:42:35.815238631z  unknown   \n",
       "\n",
       "                                                 msg    src  \n",
       "0   carts dbbdbc true nio exec org mongodb driver...  train  \n",
       "1   carts nio exec dispatcherservlet servlet serv...  train  \n",
       "3  java lang illegalargumentexception cannot find...  train  \n",
       "4  works weave socks cart item founditem lambda g...  train  \n",
       "5  java util optional orelsethrow optional java n...  train  "
      ]
     },
     "execution_count": 5,
     "metadata": {},
     "output_type": "execute_result"
    }
   ],
   "source": [
    "train['log'] = train['log'].apply(lambda x: logclean(x))\n",
    "train['timestamp'] = train['log'].apply(lambda x: x[0])\n",
    "train['level'] = train['log'].apply(lambda x: x[1])\n",
    "train['msg'] = train['log'].apply(lambda x: x[2])\n",
    "train['src'] = 'train'\n",
    "train['msg'].replace(' ', None, inplace=True)\n",
    "train.dropna(subset=['msg'], axis=0, inplace=True)\n",
    "train.head()"
   ]
  },
  {
   "cell_type": "code",
   "execution_count": 6,
   "id": "21d0dba9",
   "metadata": {},
   "outputs": [],
   "source": [
    "test = pd.concat([log2df('../dataset/sockshop/test/logs/carts-64f7c6d9d7-5mmd6.log'), \n",
    "                 log2df('../dataset/sockshop/test/logs/carts-db-844bf68bff-k7fvm.log'),\n",
    "                 log2df('../dataset/sockshop/test/logs/catalogue-6d5b4c4c4b-tpl5w.log'),\n",
    "                 log2df('../dataset/sockshop/test/logs/front-end-8648798447-tf4cj.log'),\n",
    "                 log2df('../dataset/sockshop/test/logs/orders-5ffb5f8596-d74jv.log'), \n",
    "                 log2df('../dataset/sockshop/test/logs/orders-db-9fd454cff-rrttb.log'),\n",
    "                 log2df('../dataset/sockshop/test/logs/payment-796848994-wwhv4.log'),\n",
    "                 log2df('../dataset/sockshop/test/logs/queue-master-6bf566994f-hvrpm.log'),\n",
    "                 log2df('../dataset/sockshop/test/logs/session-db-8f64655d5-qtnwh.log'), \n",
    "                 log2df('../dataset/sockshop/test/logs/shipping-899f9897f-96484.log'),\n",
    "                 log2df('../dataset/sockshop/test/logs/user-55b65b94bf-s98kg.log')\n",
    "                ])"
   ]
  },
  {
   "cell_type": "code",
   "execution_count": 7,
   "id": "b9f88c71",
   "metadata": {},
   "outputs": [
    {
     "data": {
      "text/html": [
       "<div>\n",
       "<style scoped>\n",
       "    .dataframe tbody tr th:only-of-type {\n",
       "        vertical-align: middle;\n",
       "    }\n",
       "\n",
       "    .dataframe tbody tr th {\n",
       "        vertical-align: top;\n",
       "    }\n",
       "\n",
       "    .dataframe thead th {\n",
       "        text-align: right;\n",
       "    }\n",
       "</style>\n",
       "<table border=\"1\" class=\"dataframe\">\n",
       "  <thead>\n",
       "    <tr style=\"text-align: right;\">\n",
       "      <th></th>\n",
       "      <th>log</th>\n",
       "      <th>timestamp</th>\n",
       "      <th>level</th>\n",
       "      <th>msg</th>\n",
       "      <th>src</th>\n",
       "    </tr>\n",
       "  </thead>\n",
       "  <tbody>\n",
       "    <tr>\n",
       "      <th>0</th>\n",
       "      <td>[2022-03-26t02:51:09.497025118z, info,  bootst...</td>\n",
       "      <td>2022-03-26t02:51:09.497025118z</td>\n",
       "      <td>info</td>\n",
       "      <td>bootstrap main annotationconfigapplicationcon...</td>\n",
       "      <td>test</td>\n",
       "    </tr>\n",
       "    <tr>\n",
       "      <th>1</th>\n",
       "      <td>[2022-03-26t02:51:19.897268291z, info,  bootst...</td>\n",
       "      <td>2022-03-26t02:51:19.897268291z</td>\n",
       "      <td>info</td>\n",
       "      <td>bootstrap main trationdelegate beanpostproces...</td>\n",
       "      <td>test</td>\n",
       "    </tr>\n",
       "    <tr>\n",
       "      <th>9</th>\n",
       "      <td>[2022-03-26t02:51:27.001723735z, unknown,  spr...</td>\n",
       "      <td>2022-03-26t02:51:27.001723735z</td>\n",
       "      <td>unknown</td>\n",
       "      <td>spring boot release</td>\n",
       "      <td>test</td>\n",
       "    </tr>\n",
       "    <tr>\n",
       "      <th>11</th>\n",
       "      <td>[2022-03-26t02:51:27.504687985z, info,  carts ...</td>\n",
       "      <td>2022-03-26t02:51:27.504687985z</td>\n",
       "      <td>info</td>\n",
       "      <td>carts main works weave socks cart cartapplica...</td>\n",
       "      <td>test</td>\n",
       "    </tr>\n",
       "    <tr>\n",
       "      <th>12</th>\n",
       "      <td>[2022-03-26t02:51:28.299650567z, info,  carts ...</td>\n",
       "      <td>2022-03-26t02:51:28.299650567z</td>\n",
       "      <td>info</td>\n",
       "      <td>carts main ationconfigembeddedwebapplicationc...</td>\n",
       "      <td>test</td>\n",
       "    </tr>\n",
       "  </tbody>\n",
       "</table>\n",
       "</div>"
      ],
      "text/plain": [
       "                                                  log  \\\n",
       "0   [2022-03-26t02:51:09.497025118z, info,  bootst...   \n",
       "1   [2022-03-26t02:51:19.897268291z, info,  bootst...   \n",
       "9   [2022-03-26t02:51:27.001723735z, unknown,  spr...   \n",
       "11  [2022-03-26t02:51:27.504687985z, info,  carts ...   \n",
       "12  [2022-03-26t02:51:28.299650567z, info,  carts ...   \n",
       "\n",
       "                         timestamp    level  \\\n",
       "0   2022-03-26t02:51:09.497025118z     info   \n",
       "1   2022-03-26t02:51:19.897268291z     info   \n",
       "9   2022-03-26t02:51:27.001723735z  unknown   \n",
       "11  2022-03-26t02:51:27.504687985z     info   \n",
       "12  2022-03-26t02:51:28.299650567z     info   \n",
       "\n",
       "                                                  msg   src  \n",
       "0    bootstrap main annotationconfigapplicationcon...  test  \n",
       "1    bootstrap main trationdelegate beanpostproces...  test  \n",
       "9                                spring boot release   test  \n",
       "11   carts main works weave socks cart cartapplica...  test  \n",
       "12   carts main ationconfigembeddedwebapplicationc...  test  "
      ]
     },
     "execution_count": 7,
     "metadata": {},
     "output_type": "execute_result"
    }
   ],
   "source": [
    "test['log'] = test['log'].apply(lambda x: logclean(x))\n",
    "test['timestamp'] = test['log'].apply(lambda x: x[0])\n",
    "test['level'] = test['log'].apply(lambda x: x[1])\n",
    "test['msg'] = test['log'].apply(lambda x: x[2])\n",
    "test['src'] = 'test'\n",
    "test['msg'].replace(' ', None, inplace=True)\n",
    "test.dropna(subset=['msg'], axis=0, inplace=True)\n",
    "test.head()"
   ]
  },
  {
   "cell_type": "code",
   "execution_count": 8,
   "id": "3ad57107",
   "metadata": {},
   "outputs": [
    {
     "name": "stderr",
     "output_type": "stream",
     "text": [
      "100%|███████████████████████████████| 829222/829222 [00:04<00:00, 175006.47it/s]\n"
     ]
    }
   ],
   "source": [
    "df = pd.concat([train, test])\n",
    "with open('../dataset/processed/tmp/log.log', \"w\") as f:\n",
    "    for i in tqdm(range(len(df))):\n",
    "        string = df['src'].values[i]+' '+df['timestamp'].values[i]+' '+df['level'].values[i]+' '+df['msg'].values[i]\n",
    "        string = string.replace('  ', ' ')\n",
    "        f.write(string)\n",
    "        f.write('\\n')"
   ]
  },
  {
   "cell_type": "markdown",
   "id": "30d39ab5",
   "metadata": {},
   "source": [
    "# 日志解析"
   ]
  },
  {
   "cell_type": "code",
   "execution_count": 9,
   "id": "63ad2aae",
   "metadata": {},
   "outputs": [
    {
     "name": "stdout",
     "output_type": "stream",
     "text": [
      "Parsing file: ../dataset/processed/tmp/log.log\n",
      "load log ...\n"
     ]
    },
    {
     "name": "stderr",
     "output_type": "stream",
     "text": [
      "100%|███████████████████████████████| 829222/829222 [00:03<00:00, 232232.67it/s]\n"
     ]
    },
    {
     "name": "stdout",
     "output_type": "stream",
     "text": [
      "parse log ...\n"
     ]
    },
    {
     "name": "stderr",
     "output_type": "stream",
     "text": [
      "100%|████████████████████████████████| 826170/826170 [00:23<00:00, 35232.91it/s]\n"
     ]
    },
    {
     "name": "stdout",
     "output_type": "stream",
     "text": [
      "Parsing done. [Time taken: 0:00:29.403291]\n"
     ]
    }
   ],
   "source": [
    "log_format = '<Src> <Timestamp> <Level> <Content>'\n",
    "parser = LogParser(indir='../dataset/processed/tmp/', outdir='../dataset/processed/tmp/', log_format=log_format, keep_para=False , tau=1)\n",
    "parser.parse('log.log')"
   ]
  },
  {
   "cell_type": "markdown",
   "id": "c7102c44",
   "metadata": {},
   "source": [
    "# 日志结构化"
   ]
  },
  {
   "cell_type": "code",
   "execution_count": 10,
   "id": "ddd7c01b",
   "metadata": {},
   "outputs": [
    {
     "data": {
      "text/plain": [
       "445"
      ]
     },
     "execution_count": 10,
     "metadata": {},
     "output_type": "execute_result"
    }
   ],
   "source": [
    "df = pd.read_csv('../dataset/processed/tmp/log.log_templates.csv')\n",
    "EventId2num = {}\n",
    "for num, EventId in enumerate(df['EventId'].values):\n",
    "    EventId2num[EventId] = num\n",
    "len(EventId2num)"
   ]
  },
  {
   "cell_type": "code",
   "execution_count": 11,
   "id": "ec4a233d",
   "metadata": {},
   "outputs": [
    {
     "data": {
      "text/html": [
       "<div>\n",
       "<style scoped>\n",
       "    .dataframe tbody tr th:only-of-type {\n",
       "        vertical-align: middle;\n",
       "    }\n",
       "\n",
       "    .dataframe tbody tr th {\n",
       "        vertical-align: top;\n",
       "    }\n",
       "\n",
       "    .dataframe thead th {\n",
       "        text-align: right;\n",
       "    }\n",
       "</style>\n",
       "<table border=\"1\" class=\"dataframe\">\n",
       "  <thead>\n",
       "    <tr style=\"text-align: right;\">\n",
       "      <th></th>\n",
       "      <th>LineId</th>\n",
       "      <th>Src</th>\n",
       "      <th>Timestamp</th>\n",
       "      <th>Level</th>\n",
       "      <th>Content</th>\n",
       "      <th>EventId</th>\n",
       "      <th>EventTemplate</th>\n",
       "      <th>timestamp</th>\n",
       "    </tr>\n",
       "  </thead>\n",
       "  <tbody>\n",
       "    <tr>\n",
       "      <th>0</th>\n",
       "      <td>1</td>\n",
       "      <td>train</td>\n",
       "      <td>2022-03-24t07:32:38.494696400z</td>\n",
       "      <td>info</td>\n",
       "      <td>carts dbbdbc true nio exec org mongodb driver ...</td>\n",
       "      <td>0</td>\n",
       "      <td>carts dbbdbc true nio exec org mongodb driver ...</td>\n",
       "      <td>2022-03-24 07:32:38.494696+00:00</td>\n",
       "    </tr>\n",
       "    <tr>\n",
       "      <th>1</th>\n",
       "      <td>2</td>\n",
       "      <td>train</td>\n",
       "      <td>2022-03-24t07:42:35.815209408z</td>\n",
       "      <td>error</td>\n",
       "      <td>carts nio exec dispatcherservlet servlet servi...</td>\n",
       "      <td>1</td>\n",
       "      <td>&lt;*&gt; &lt;*&gt; &lt;*&gt; &lt;*&gt; &lt;*&gt; &lt;*&gt; &lt;*&gt; &lt;*&gt; &lt;*&gt; &lt;*&gt; &lt;*&gt; &lt;*...</td>\n",
       "      <td>2022-03-24 07:42:35.815209+00:00</td>\n",
       "    </tr>\n",
       "    <tr>\n",
       "      <th>2</th>\n",
       "      <td>3</td>\n",
       "      <td>train</td>\n",
       "      <td>2022-03-24t07:42:35.815234953z</td>\n",
       "      <td>unknown</td>\n",
       "      <td>java lang illegalargumentexception cannot find...</td>\n",
       "      <td>1</td>\n",
       "      <td>&lt;*&gt; &lt;*&gt; &lt;*&gt; &lt;*&gt; &lt;*&gt; &lt;*&gt; &lt;*&gt; &lt;*&gt; &lt;*&gt; &lt;*&gt; &lt;*&gt; &lt;*...</td>\n",
       "      <td>2022-03-24 07:42:35.815234+00:00</td>\n",
       "    </tr>\n",
       "    <tr>\n",
       "      <th>3</th>\n",
       "      <td>4</td>\n",
       "      <td>train</td>\n",
       "      <td>2022-03-24t07:42:35.815236753z</td>\n",
       "      <td>unknown</td>\n",
       "      <td>works weave socks cart item founditem lambda g...</td>\n",
       "      <td>2</td>\n",
       "      <td>works weave socks cart item founditem &lt;*&gt; get ...</td>\n",
       "      <td>2022-03-24 07:42:35.815236+00:00</td>\n",
       "    </tr>\n",
       "    <tr>\n",
       "      <th>4</th>\n",
       "      <td>5</td>\n",
       "      <td>train</td>\n",
       "      <td>2022-03-24t07:42:35.815238631z</td>\n",
       "      <td>unknown</td>\n",
       "      <td>java util optional orelsethrow optional java n...</td>\n",
       "      <td>3</td>\n",
       "      <td>java util optional orelsethrow optional java n...</td>\n",
       "      <td>2022-03-24 07:42:35.815238+00:00</td>\n",
       "    </tr>\n",
       "  </tbody>\n",
       "</table>\n",
       "</div>"
      ],
      "text/plain": [
       "   LineId    Src                       Timestamp    Level  \\\n",
       "0       1  train  2022-03-24t07:32:38.494696400z     info   \n",
       "1       2  train  2022-03-24t07:42:35.815209408z    error   \n",
       "2       3  train  2022-03-24t07:42:35.815234953z  unknown   \n",
       "3       4  train  2022-03-24t07:42:35.815236753z  unknown   \n",
       "4       5  train  2022-03-24t07:42:35.815238631z  unknown   \n",
       "\n",
       "                                             Content  EventId  \\\n",
       "0  carts dbbdbc true nio exec org mongodb driver ...        0   \n",
       "1  carts nio exec dispatcherservlet servlet servi...        1   \n",
       "2  java lang illegalargumentexception cannot find...        1   \n",
       "3  works weave socks cart item founditem lambda g...        2   \n",
       "4  java util optional orelsethrow optional java n...        3   \n",
       "\n",
       "                                       EventTemplate  \\\n",
       "0  carts dbbdbc true nio exec org mongodb driver ...   \n",
       "1  <*> <*> <*> <*> <*> <*> <*> <*> <*> <*> <*> <*...   \n",
       "2  <*> <*> <*> <*> <*> <*> <*> <*> <*> <*> <*> <*...   \n",
       "3  works weave socks cart item founditem <*> get ...   \n",
       "4  java util optional orelsethrow optional java n...   \n",
       "\n",
       "                         timestamp  \n",
       "0 2022-03-24 07:32:38.494696+00:00  \n",
       "1 2022-03-24 07:42:35.815209+00:00  \n",
       "2 2022-03-24 07:42:35.815234+00:00  \n",
       "3 2022-03-24 07:42:35.815236+00:00  \n",
       "4 2022-03-24 07:42:35.815238+00:00  "
      ]
     },
     "execution_count": 11,
     "metadata": {},
     "output_type": "execute_result"
    }
   ],
   "source": [
    "df = pd.read_csv('../dataset/processed/tmp/log.log_structured.csv')\n",
    "df['EventId'] = df['EventId'].apply(lambda x: EventId2num[x])\n",
    "\n",
    "df['timestamp'] = pd.to_datetime(df['Timestamp'] )\n",
    "df.head()"
   ]
  },
  {
   "cell_type": "code",
   "execution_count": 12,
   "id": "5aaeb6e2",
   "metadata": {},
   "outputs": [],
   "source": [
    "train = df[df['Src']=='train'].copy()\n",
    "train.sort_values('timestamp', inplace=True)\n",
    "\n",
    "countmin = 1*60*1000000000\n",
    "train['timestamp'] = pd.to_datetime((train['timestamp'].view(np.int64) // countmin) * countmin) + pd.to_timedelta('8h')\n",
    "\n",
    "train = train[(train['timestamp']>='2022-03-24 15:20') & (train['timestamp']<='2022-03-25 15:19')]\n",
    "train[['timestamp', 'Level', 'Content', 'EventId', 'EventTemplate']].to_csv('../dataset/processed/train/logs/logs.csv',index=False)"
   ]
  },
  {
   "cell_type": "code",
   "execution_count": 13,
   "id": "e25e21d5",
   "metadata": {},
   "outputs": [],
   "source": [
    "test = df[df['Src']=='test'].copy()\n",
    "test.sort_values('timestamp', inplace=True)\n",
    "\n",
    "countmin = 1*60*1000000000\n",
    "test['timestamp'] = pd.to_datetime((test['timestamp'].view(np.int64) // countmin) * countmin) + pd.to_timedelta('8h')\n",
    "\n",
    "test = test[(test['timestamp']>='2022-03-26 08:30') & (test['timestamp']<='2022-03-26 20:29')]\n",
    "test[['timestamp', 'Level', 'Content', 'EventId', 'EventTemplate']].to_csv('../dataset/processed/test/logs/logs.csv', index=False)"
   ]
  },
  {
   "cell_type": "code",
   "execution_count": null,
   "id": "8051a5a0",
   "metadata": {},
   "outputs": [],
   "source": []
  }
 ],
 "metadata": {
  "kernelspec": {
   "display_name": "Python [conda env:py39]",
   "language": "python",
   "name": "py39"
  },
  "language_info": {
   "codemirror_mode": {
    "name": "ipython",
    "version": 3
   },
   "file_extension": ".py",
   "mimetype": "text/x-python",
   "name": "python",
   "nbconvert_exporter": "python",
   "pygments_lexer": "ipython3",
   "version": "3.9.6"
  }
 },
 "nbformat": 4,
 "nbformat_minor": 5
}
